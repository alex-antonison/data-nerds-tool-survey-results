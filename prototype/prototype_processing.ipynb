{
 "cells": [
  {
   "cell_type": "code",
   "execution_count": 68,
   "metadata": {},
   "outputs": [],
   "source": [
    "import pandas as pd"
   ]
  },
  {
   "cell_type": "code",
   "execution_count": 69,
   "metadata": {},
   "outputs": [
    {
     "data": {
      "text/html": [
       "<div>\n",
       "<style scoped>\n",
       "    .dataframe tbody tr th:only-of-type {\n",
       "        vertical-align: middle;\n",
       "    }\n",
       "\n",
       "    .dataframe tbody tr th {\n",
       "        vertical-align: top;\n",
       "    }\n",
       "\n",
       "    .dataframe thead th {\n",
       "        text-align: right;\n",
       "    }\n",
       "</style>\n",
       "<table border=\"1\" class=\"dataframe\">\n",
       "  <thead>\n",
       "    <tr style=\"text-align: right;\">\n",
       "      <th></th>\n",
       "      <th>role</th>\n",
       "      <th>years_experience</th>\n",
       "      <th>programming_language</th>\n",
       "      <th>programming_packages</th>\n",
       "      <th>data_tools</th>\n",
       "      <th>cloud_provider</th>\n",
       "    </tr>\n",
       "  </thead>\n",
       "  <tbody>\n",
       "    <tr>\n",
       "      <th>0</th>\n",
       "      <td>Data Analytics/Business Intelligence</td>\n",
       "      <td>5+ years</td>\n",
       "      <td>Python, R, SQL</td>\n",
       "      <td>pandas, matplotlb, seaborn</td>\n",
       "      <td>Tableau, Visual Studio Code, Atom, DBeaver</td>\n",
       "      <td>Amazon Web Services</td>\n",
       "    </tr>\n",
       "    <tr>\n",
       "      <th>1</th>\n",
       "      <td>Data Engineering</td>\n",
       "      <td>5+ years</td>\n",
       "      <td>R, SQL</td>\n",
       "      <td>Tidyverse</td>\n",
       "      <td>Tableau, Excel, Alteryx, RStudio</td>\n",
       "      <td>Microsoft Azure</td>\n",
       "    </tr>\n",
       "    <tr>\n",
       "      <th>2</th>\n",
       "      <td>Data Science</td>\n",
       "      <td>5+ years</td>\n",
       "      <td>Python</td>\n",
       "      <td>Jupyter notebooks</td>\n",
       "      <td>Tableau, Excel, Juicebox</td>\n",
       "      <td>Amazon Web Services</td>\n",
       "    </tr>\n",
       "    <tr>\n",
       "      <th>3</th>\n",
       "      <td>Data Science</td>\n",
       "      <td>0 to 2 years</td>\n",
       "      <td>R, SQL, SAS, STATA</td>\n",
       "      <td>dplyr</td>\n",
       "      <td>NaN</td>\n",
       "      <td>SAS sever</td>\n",
       "    </tr>\n",
       "    <tr>\n",
       "      <th>4</th>\n",
       "      <td>Data Science</td>\n",
       "      <td>5+ years</td>\n",
       "      <td>Python, SQL</td>\n",
       "      <td>Spacy,gensim,pandas,sqlalchemy</td>\n",
       "      <td>PyCharm, Jupyer</td>\n",
       "      <td>Amazon Web Services</td>\n",
       "    </tr>\n",
       "  </tbody>\n",
       "</table>\n",
       "</div>"
      ],
      "text/plain": [
       "                                   role years_experience programming_language  \\\n",
       "0  Data Analytics/Business Intelligence         5+ years       Python, R, SQL   \n",
       "1                      Data Engineering         5+ years               R, SQL   \n",
       "2                          Data Science         5+ years               Python   \n",
       "3                          Data Science     0 to 2 years   R, SQL, SAS, STATA   \n",
       "4                          Data Science         5+ years          Python, SQL   \n",
       "\n",
       "             programming_packages                                  data_tools  \\\n",
       "0      pandas, matplotlb, seaborn  Tableau, Visual Studio Code, Atom, DBeaver   \n",
       "1                       Tidyverse            Tableau, Excel, Alteryx, RStudio   \n",
       "2               Jupyter notebooks                    Tableau, Excel, Juicebox   \n",
       "3                           dplyr                                         NaN   \n",
       "4  Spacy,gensim,pandas,sqlalchemy                             PyCharm, Jupyer   \n",
       "\n",
       "        cloud_provider  \n",
       "0  Amazon Web Services  \n",
       "1      Microsoft Azure  \n",
       "2  Amazon Web Services  \n",
       "3            SAS sever  \n",
       "4  Amazon Web Services  "
      ]
     },
     "execution_count": 69,
     "metadata": {},
     "output_type": "execute_result"
    }
   ],
   "source": [
    "columns = [\"timestamp\", \"role\", \"years_experience\", \"programming_language\", \"programming_packages\", \"data_tools\", \"cloud_provider\"]\n",
    "survey_df = pd.read_csv(\"../data/data_tools_survey_results.csv\", names=columns, skiprows=1)\n",
    "# do not care about the timestamp column\n",
    "survey_df = survey_df.drop(columns=\"timestamp\")\n",
    "survey_df.head()"
   ]
  },
  {
   "cell_type": "code",
   "execution_count": 70,
   "metadata": {},
   "outputs": [
    {
     "data": {
      "text/html": [
       "<div>\n",
       "<style scoped>\n",
       "    .dataframe tbody tr th:only-of-type {\n",
       "        vertical-align: middle;\n",
       "    }\n",
       "\n",
       "    .dataframe tbody tr th {\n",
       "        vertical-align: top;\n",
       "    }\n",
       "\n",
       "    .dataframe thead th {\n",
       "        text-align: right;\n",
       "    }\n",
       "</style>\n",
       "<table border=\"1\" class=\"dataframe\">\n",
       "  <thead>\n",
       "    <tr style=\"text-align: right;\">\n",
       "      <th></th>\n",
       "      <th>orig_role</th>\n",
       "      <th>mapped_role</th>\n",
       "    </tr>\n",
       "  </thead>\n",
       "  <tbody>\n",
       "    <tr>\n",
       "      <th>0</th>\n",
       "      <td>Search  Relevance, so  it's hard to classify</td>\n",
       "      <td>Other</td>\n",
       "    </tr>\n",
       "    <tr>\n",
       "      <th>1</th>\n",
       "      <td>Machine learning research; Science that genera...</td>\n",
       "      <td>Other</td>\n",
       "    </tr>\n",
       "    <tr>\n",
       "      <th>2</th>\n",
       "      <td>Salesforce development</td>\n",
       "      <td>Other</td>\n",
       "    </tr>\n",
       "    <tr>\n",
       "      <th>3</th>\n",
       "      <td>Programming / Developer work</td>\n",
       "      <td>Other</td>\n",
       "    </tr>\n",
       "    <tr>\n",
       "      <th>4</th>\n",
       "      <td>Business management</td>\n",
       "      <td>Other</td>\n",
       "    </tr>\n",
       "  </tbody>\n",
       "</table>\n",
       "</div>"
      ],
      "text/plain": [
       "                                           orig_role mapped_role\n",
       "0       Search  Relevance, so  it's hard to classify       Other\n",
       "1  Machine learning research; Science that genera...       Other\n",
       "2                             Salesforce development       Other\n",
       "3                       Programming / Developer work       Other\n",
       "4                               Business management        Other"
      ]
     },
     "execution_count": 70,
     "metadata": {},
     "output_type": "execute_result"
    }
   ],
   "source": [
    "role_map_df = pd.read_csv(\"../mapping/role_mapping.csv\")\n",
    "role_map_df.head()"
   ]
  },
  {
   "cell_type": "code",
   "execution_count": 71,
   "metadata": {},
   "outputs": [
    {
     "data": {
      "text/plain": [
       "(26, 6)"
      ]
     },
     "execution_count": 71,
     "metadata": {},
     "output_type": "execute_result"
    }
   ],
   "source": [
    "survey_df.shape"
   ]
  },
  {
   "cell_type": "code",
   "execution_count": 72,
   "metadata": {},
   "outputs": [
    {
     "name": "stdout",
     "output_type": "stream",
     "text": [
      "<class 'pandas.core.frame.DataFrame'>\n",
      "RangeIndex: 26 entries, 0 to 25\n",
      "Data columns (total 6 columns):\n",
      " #   Column                Non-Null Count  Dtype \n",
      "---  ------                --------------  ----- \n",
      " 0   role                  26 non-null     object\n",
      " 1   years_experience      26 non-null     object\n",
      " 2   programming_language  25 non-null     object\n",
      " 3   programming_packages  19 non-null     object\n",
      " 4   data_tools            25 non-null     object\n",
      " 5   cloud_provider        23 non-null     object\n",
      "dtypes: object(6)\n",
      "memory usage: 1.3+ KB\n"
     ]
    }
   ],
   "source": [
    "survey_df.info()"
   ]
  },
  {
   "cell_type": "code",
   "execution_count": 73,
   "metadata": {},
   "outputs": [],
   "source": [
    "def map_values_for_column(df, mapped_df):\n",
    "    for index, row in mapped_df.iterrows():\n",
    "        df[\"role\"] = df[\"role\"].replace([row[\"orig_role\"]], row[\"mapped_role\"])\n",
    "\n",
    "    return df"
   ]
  },
  {
   "cell_type": "code",
   "execution_count": 74,
   "metadata": {},
   "outputs": [
    {
     "data": {
      "text/plain": [
       "array(['Data Analytics/Business Intelligence', 'Data Engineering',\n",
       "       'Data Science', 'Other', 'Machine Learning Engineering'],\n",
       "      dtype=object)"
      ]
     },
     "execution_count": 74,
     "metadata": {},
     "output_type": "execute_result"
    }
   ],
   "source": [
    "survey_df = map_values_for_column(survey_df, role_map_df)\n",
    "survey_df[\"role\"].unique()"
   ]
  }
 ],
 "metadata": {
  "interpreter": {
   "hash": "b1d75fd421e2d74d0952ac9f63ed0631e5b576a1a9638b987e8c29bb4d20f40e"
  },
  "kernelspec": {
   "display_name": "Python 3.10.0 64-bit ('data-nerds-tool-survey-results-kjjuc6a3-py3.10': poetry)",
   "language": "python",
   "name": "python3"
  },
  "language_info": {
   "codemirror_mode": {
    "name": "ipython",
    "version": 3
   },
   "file_extension": ".py",
   "mimetype": "text/x-python",
   "name": "python",
   "nbconvert_exporter": "python",
   "pygments_lexer": "ipython3",
   "version": "3.10.0"
  },
  "orig_nbformat": 4
 },
 "nbformat": 4,
 "nbformat_minor": 2
}
