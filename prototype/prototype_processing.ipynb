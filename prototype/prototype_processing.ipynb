{
 "cells": [
  {
   "cell_type": "code",
   "execution_count": 1,
   "metadata": {},
   "outputs": [],
   "source": [
    "import pandas as pd\n",
    "import yaml\n",
    "import os\n",
    "from pathlib import Path\n",
    "\n",
    "# it is helpful to prototype your code running from the same path you\n",
    "# will be running your data application. In this case, it will be from\n",
    "# the main directory\n",
    "if Path(os.getcwd()).name != \"data-nerds-tool-survey-results\":\n",
    "    os.chdir(\"../\")"
   ]
  },
  {
   "cell_type": "code",
   "execution_count": 2,
   "metadata": {},
   "outputs": [
    {
     "data": {
      "text/plain": [
       "'data/survey/survey_results.csv'"
      ]
     },
     "execution_count": 2,
     "metadata": {},
     "output_type": "execute_result"
    }
   ],
   "source": [
    "with open(\"config/env.yml\", \"r\") as stream:\n",
    "    try:\n",
    "        env_config = yaml.safe_load(stream)\n",
    "        for var in env_config[\"env_var\"]:\n",
    "            os.environ[var] = env_config[\"env_var\"][var]\n",
    "    except yaml.YAMLError as exc:\n",
    "        print(exc)\n",
    "os.environ[\"survey_results\"]"
   ]
  },
  {
   "cell_type": "code",
   "execution_count": 3,
   "metadata": {},
   "outputs": [
    {
     "data": {
      "text/html": [
       "<div>\n",
       "<style scoped>\n",
       "    .dataframe tbody tr th:only-of-type {\n",
       "        vertical-align: middle;\n",
       "    }\n",
       "\n",
       "    .dataframe tbody tr th {\n",
       "        vertical-align: top;\n",
       "    }\n",
       "\n",
       "    .dataframe thead th {\n",
       "        text-align: right;\n",
       "    }\n",
       "</style>\n",
       "<table border=\"1\" class=\"dataframe\">\n",
       "  <thead>\n",
       "    <tr style=\"text-align: right;\">\n",
       "      <th></th>\n",
       "      <th>role</th>\n",
       "      <th>years_experience</th>\n",
       "      <th>programming_language</th>\n",
       "      <th>programming_package</th>\n",
       "      <th>data_tool</th>\n",
       "      <th>cloud_provider</th>\n",
       "    </tr>\n",
       "  </thead>\n",
       "  <tbody>\n",
       "    <tr>\n",
       "      <th>0</th>\n",
       "      <td>Data Analytics/Business Intelligence</td>\n",
       "      <td>5+ years</td>\n",
       "      <td>Python, R, SQL</td>\n",
       "      <td>pandas, matplotlb, seaborn</td>\n",
       "      <td>Tableau, Visual Studio Code, Atom, DBeaver</td>\n",
       "      <td>Amazon Web Services</td>\n",
       "    </tr>\n",
       "  </tbody>\n",
       "</table>\n",
       "</div>"
      ],
      "text/plain": [
       "                                   role years_experience programming_language  \\\n",
       "0  Data Analytics/Business Intelligence         5+ years       Python, R, SQL   \n",
       "\n",
       "          programming_package                                   data_tool  \\\n",
       "0  pandas, matplotlb, seaborn  Tableau, Visual Studio Code, Atom, DBeaver   \n",
       "\n",
       "        cloud_provider  \n",
       "0  Amazon Web Services  "
      ]
     },
     "execution_count": 3,
     "metadata": {},
     "output_type": "execute_result"
    }
   ],
   "source": [
    "columns = [\"timestamp\", \"role\", \"years_experience\", \"programming_language\", \"programming_package\", \"data_tool\", \"cloud_provider\"]\n",
    "survey_df = pd.read_csv(os.environ[\"survey_results\"], names=columns, skiprows=1)\n",
    "# do not care about the timestamp column\n",
    "survey_df = survey_df.drop(columns=\"timestamp\")\n",
    "survey_df.head(1)"
   ]
  },
  {
   "cell_type": "code",
   "execution_count": 4,
   "metadata": {},
   "outputs": [
    {
     "data": {
      "text/html": [
       "<div>\n",
       "<style scoped>\n",
       "    .dataframe tbody tr th:only-of-type {\n",
       "        vertical-align: middle;\n",
       "    }\n",
       "\n",
       "    .dataframe tbody tr th {\n",
       "        vertical-align: top;\n",
       "    }\n",
       "\n",
       "    .dataframe thead th {\n",
       "        text-align: right;\n",
       "    }\n",
       "</style>\n",
       "<table border=\"1\" class=\"dataframe\">\n",
       "  <thead>\n",
       "    <tr style=\"text-align: right;\">\n",
       "      <th></th>\n",
       "      <th>orig_role</th>\n",
       "      <th>mapped_role</th>\n",
       "    </tr>\n",
       "  </thead>\n",
       "  <tbody>\n",
       "    <tr>\n",
       "      <th>0</th>\n",
       "      <td>Search  Relevance, so  it's hard to classify</td>\n",
       "      <td>Other</td>\n",
       "    </tr>\n",
       "  </tbody>\n",
       "</table>\n",
       "</div>"
      ],
      "text/plain": [
       "                                      orig_role mapped_role\n",
       "0  Search  Relevance, so  it's hard to classify       Other"
      ]
     },
     "execution_count": 4,
     "metadata": {},
     "output_type": "execute_result"
    }
   ],
   "source": [
    "role_map_df = pd.read_csv(os.environ[\"role_mapping\"])\n",
    "role_map_df.head(1)"
   ]
  },
  {
   "cell_type": "code",
   "execution_count": 5,
   "metadata": {},
   "outputs": [
    {
     "data": {
      "text/html": [
       "<div>\n",
       "<style scoped>\n",
       "    .dataframe tbody tr th:only-of-type {\n",
       "        vertical-align: middle;\n",
       "    }\n",
       "\n",
       "    .dataframe tbody tr th {\n",
       "        vertical-align: top;\n",
       "    }\n",
       "\n",
       "    .dataframe thead th {\n",
       "        text-align: right;\n",
       "    }\n",
       "</style>\n",
       "<table border=\"1\" class=\"dataframe\">\n",
       "  <thead>\n",
       "    <tr style=\"text-align: right;\">\n",
       "      <th></th>\n",
       "      <th>orig_language</th>\n",
       "      <th>mapped_language</th>\n",
       "    </tr>\n",
       "  </thead>\n",
       "  <tbody>\n",
       "    <tr>\n",
       "      <th>0</th>\n",
       "      <td>solr streaming expressions</td>\n",
       "      <td>solr</td>\n",
       "    </tr>\n",
       "  </tbody>\n",
       "</table>\n",
       "</div>"
      ],
      "text/plain": [
       "                orig_language mapped_language\n",
       "0  solr streaming expressions            solr"
      ]
     },
     "execution_count": 5,
     "metadata": {},
     "output_type": "execute_result"
    }
   ],
   "source": [
    "prog_language_map_df = pd.read_csv(os.environ[\"programming_language_mapping\"])\n",
    "prog_language_map_df.head(1)"
   ]
  },
  {
   "cell_type": "code",
   "execution_count": 6,
   "metadata": {},
   "outputs": [
    {
     "data": {
      "text/html": [
       "<div>\n",
       "<style scoped>\n",
       "    .dataframe tbody tr th:only-of-type {\n",
       "        vertical-align: middle;\n",
       "    }\n",
       "\n",
       "    .dataframe tbody tr th {\n",
       "        vertical-align: top;\n",
       "    }\n",
       "\n",
       "    .dataframe thead th {\n",
       "        text-align: right;\n",
       "    }\n",
       "</style>\n",
       "<table border=\"1\" class=\"dataframe\">\n",
       "  <thead>\n",
       "    <tr style=\"text-align: right;\">\n",
       "      <th></th>\n",
       "      <th>orig_package</th>\n",
       "      <th>mapped_package</th>\n",
       "    </tr>\n",
       "  </thead>\n",
       "  <tbody>\n",
       "    <tr>\n",
       "      <th>0</th>\n",
       "      <td>jupyter notebooks</td>\n",
       "      <td>jupyter</td>\n",
       "    </tr>\n",
       "  </tbody>\n",
       "</table>\n",
       "</div>"
      ],
      "text/plain": [
       "        orig_package mapped_package\n",
       "0  jupyter notebooks        jupyter"
      ]
     },
     "execution_count": 6,
     "metadata": {},
     "output_type": "execute_result"
    }
   ],
   "source": [
    "prog_package_map_df = pd.read_csv(os.environ[\"programming_package_mapping\"])\n",
    "prog_package_map_df.head(1)"
   ]
  },
  {
   "cell_type": "code",
   "execution_count": 7,
   "metadata": {},
   "outputs": [
    {
     "data": {
      "text/html": [
       "<div>\n",
       "<style scoped>\n",
       "    .dataframe tbody tr th:only-of-type {\n",
       "        vertical-align: middle;\n",
       "    }\n",
       "\n",
       "    .dataframe tbody tr th {\n",
       "        vertical-align: top;\n",
       "    }\n",
       "\n",
       "    .dataframe thead th {\n",
       "        text-align: right;\n",
       "    }\n",
       "</style>\n",
       "<table border=\"1\" class=\"dataframe\">\n",
       "  <thead>\n",
       "    <tr style=\"text-align: right;\">\n",
       "      <th></th>\n",
       "      <th>orig_tool</th>\n",
       "      <th>mapped_tool</th>\n",
       "    </tr>\n",
       "  </thead>\n",
       "  <tbody>\n",
       "    <tr>\n",
       "      <th>0</th>\n",
       "      <td>pandas</td>\n",
       "      <td>NaN</td>\n",
       "    </tr>\n",
       "  </tbody>\n",
       "</table>\n",
       "</div>"
      ],
      "text/plain": [
       "  orig_tool mapped_tool\n",
       "0    pandas         NaN"
      ]
     },
     "execution_count": 7,
     "metadata": {},
     "output_type": "execute_result"
    }
   ],
   "source": [
    "data_tool_mapping_df = pd.read_csv(os.environ[\"data_tool_mapping\"])\n",
    "data_tool_mapping_df.head(1)"
   ]
  },
  {
   "cell_type": "code",
   "execution_count": 8,
   "metadata": {},
   "outputs": [
    {
     "data": {
      "text/html": [
       "<div>\n",
       "<style scoped>\n",
       "    .dataframe tbody tr th:only-of-type {\n",
       "        vertical-align: middle;\n",
       "    }\n",
       "\n",
       "    .dataframe tbody tr th {\n",
       "        vertical-align: top;\n",
       "    }\n",
       "\n",
       "    .dataframe thead th {\n",
       "        text-align: right;\n",
       "    }\n",
       "</style>\n",
       "<table border=\"1\" class=\"dataframe\">\n",
       "  <thead>\n",
       "    <tr style=\"text-align: right;\">\n",
       "      <th></th>\n",
       "      <th>orig_cloud_provider</th>\n",
       "      <th>mapped_cloud_provider</th>\n",
       "    </tr>\n",
       "  </thead>\n",
       "  <tbody>\n",
       "    <tr>\n",
       "      <th>0</th>\n",
       "      <td>custom-built workstations</td>\n",
       "      <td>on-prem</td>\n",
       "    </tr>\n",
       "  </tbody>\n",
       "</table>\n",
       "</div>"
      ],
      "text/plain": [
       "         orig_cloud_provider mapped_cloud_provider\n",
       "0  custom-built workstations               on-prem"
      ]
     },
     "execution_count": 8,
     "metadata": {},
     "output_type": "execute_result"
    }
   ],
   "source": [
    "cloud_provider_mapping_df = pd.read_csv(os.environ[\"cloud_provider_mapping\"])\n",
    "cloud_provider_mapping_df.head(1)"
   ]
  },
  {
   "cell_type": "code",
   "execution_count": 9,
   "metadata": {},
   "outputs": [],
   "source": [
    "# write a function that takes in a dataframe, a mapping df, and map each of the columns\n",
    "\n",
    "def map_values_for_column(df, target_column, mapped_df):\n",
    "    for index, row in mapped_df.iterrows():\n",
    "        df[target_column] = df[target_column].replace([row[0]], row[1])\n",
    "\n",
    "    return df"
   ]
  },
  {
   "cell_type": "code",
   "execution_count": 10,
   "metadata": {},
   "outputs": [],
   "source": [
    "def standardize_survey_list(row):\n",
    "    # lowers all strings and strips whitespace\n",
    "    clean_row = [x.lower().strip() for x in row]\n",
    "    return list(set(clean_row))"
   ]
  },
  {
   "cell_type": "code",
   "execution_count": 11,
   "metadata": {},
   "outputs": [],
   "source": [
    "def process_survey_results(df, survey_column, mapping_df=None):\n",
    "    df = df[[\"role\", \"years_experience\", survey_column]]\n",
    "\n",
    "    # convert survey column into an array\n",
    "    df = df.assign(survey_column=df[survey_column].str.split(','))\n",
    "\n",
    "    # only keep survey columns that have populated values\n",
    "    df = df[pd.notnull(df[\"survey_column\"])]\n",
    "\n",
    "    # standardize all of the survey results\n",
    "    df[\"survey_column\"] = df.apply(lambda row: standardize_survey_list(row[\"survey_column\"]), axis = 1)\n",
    "\n",
    "    df = df.explode(\"survey_column\")\n",
    "    \n",
    "    # reset index and rename column to the survey column\n",
    "    # name provided\n",
    "    df = (\n",
    "        df.reset_index(drop=True)\n",
    "          .drop(columns=survey_column)\n",
    "          .rename(columns={\"survey_column\": survey_column})\n",
    "    )\n",
    "\n",
    "    # replace mapped values\n",
    "    if mapping_df is not None:\n",
    "        df = map_values_for_column(df, target_column = survey_column, mapped_df=mapping_df)\n",
    "\n",
    "    # get rid of null and empty columns\n",
    "    df = df[df[survey_column].notnull()]\n",
    "    df = df[df[survey_column] != '']\n",
    "\n",
    "    df = df.groupby(list(df.columns)).size().reset_index(name='count')\n",
    "\n",
    "    return df\n",
    "\n",
    "programming_language_survey_df = process_survey_results(survey_df,survey_column=\"programming_language\", mapping_df=prog_language_map_df)\n",
    "programming_package_survey_df = process_survey_results(survey_df,survey_column=\"programming_package\", mapping_df=prog_package_map_df)\n",
    "data_tools_survey_df = process_survey_results(survey_df,survey_column=\"data_tool\", mapping_df=data_tool_mapping_df)\n",
    "cloud_provider_survey_df = process_survey_results(survey_df,survey_column=\"cloud_provider\", mapping_df=cloud_provider_mapping_df)"
   ]
  },
  {
   "cell_type": "code",
   "execution_count": 12,
   "metadata": {},
   "outputs": [
    {
     "data": {
      "text/plain": [
       "array(['Data Analytics/Business Intelligence', 'Data Engineering',\n",
       "       'Data Science', 'Other', 'Machine Learning Engineering'],\n",
       "      dtype=object)"
      ]
     },
     "execution_count": 12,
     "metadata": {},
     "output_type": "execute_result"
    }
   ],
   "source": [
    "survey_df = map_values_for_column(survey_df, \"role\", role_map_df)\n",
    "survey_df = survey_df[survey_df[\"role\"].notnull()]\n",
    "survey_df[\"role\"].unique()"
   ]
  },
  {
   "cell_type": "code",
   "execution_count": 13,
   "metadata": {},
   "outputs": [
    {
     "data": {
      "text/plain": [
       "array(['bash', 'c++', 'dax', 'javascript', 'matlab', 'perl', 'python',\n",
       "       'r', 'sas', 'scala', 'solr', 'spss', 'sql', 'stata', 'vba'],\n",
       "      dtype=object)"
      ]
     },
     "execution_count": 13,
     "metadata": {},
     "output_type": "execute_result"
    }
   ],
   "source": [
    "tool_list = programming_language_survey_df[\"programming_language\"].unique()\n",
    "tool_list.sort()\n",
    "tool_list"
   ]
  },
  {
   "cell_type": "code",
   "execution_count": 14,
   "metadata": {},
   "outputs": [
    {
     "data": {
      "text/plain": [
       "array(['apex', 'bokeh', 'boto3', 'd3.js', 'dask', 'dbt', 'dplyr', 'dvc',\n",
       "       'fastai', 'flask', 'gensim', 'ggplot', 'ggplot2', 'ipython',\n",
       "       'java', 'jupyter', 'kedro', 'keras', 'luigi', 'matplotlb',\n",
       "       'matplotlib', 'mlflow', 'nltk', 'numba', 'numpy', 'optuna', 'os',\n",
       "       'pandas', 'plotly', 'pyodbc', 'pyspark', 'pytorch', 'scikit-learn',\n",
       "       'scipy', 'seaborn', 'sf', 'spacy', 'spark.sql', 'sqlalchemy',\n",
       "       'tensorflow', 'tidyverse', 'vis.js'], dtype=object)"
      ]
     },
     "execution_count": 14,
     "metadata": {},
     "output_type": "execute_result"
    }
   ],
   "source": [
    "tool_list = programming_package_survey_df[\"programming_package\"].unique()\n",
    "tool_list.sort()\n",
    "tool_list"
   ]
  },
  {
   "cell_type": "code",
   "execution_count": 15,
   "metadata": {},
   "outputs": [
    {
     "data": {
      "text/plain": [
       "array(['alteryx', 'atom', 'aws athena', 'aws quicksight', 'databricks',\n",
       "       'datagrip', 'datastudio', 'dbeaver', 'dbt', 'excel', 'juicebox',\n",
       "       'jupyter-notebooks', 'looker', 'powerbi', 'pycharm', 'qlik',\n",
       "       'rstudio', 'sqlanalytics', 'sublime', 'tableau', 'ultraedit',\n",
       "       'visual studio code'], dtype=object)"
      ]
     },
     "execution_count": 15,
     "metadata": {},
     "output_type": "execute_result"
    }
   ],
   "source": [
    "tool_list = data_tools_survey_df[\"data_tool\"].unique()\n",
    "tool_list.sort()\n",
    "tool_list"
   ]
  },
  {
   "cell_type": "code",
   "execution_count": 16,
   "metadata": {},
   "outputs": [
    {
     "data": {
      "text/plain": [
       "array(['amazon web services', 'databricks', 'google cloud services',\n",
       "       'microsoft azure', 'on-prem', 'sas'], dtype=object)"
      ]
     },
     "execution_count": 16,
     "metadata": {},
     "output_type": "execute_result"
    }
   ],
   "source": [
    "tool_list = cloud_provider_survey_df[\"cloud_provider\"].unique()\n",
    "tool_list.sort()\n",
    "tool_list"
   ]
  }
 ],
 "metadata": {
  "interpreter": {
   "hash": "b1d75fd421e2d74d0952ac9f63ed0631e5b576a1a9638b987e8c29bb4d20f40e"
  },
  "kernelspec": {
   "display_name": "Python 3.10.0 64-bit ('data-nerds-tool-survey-results-kjjuc6a3-py3.10': poetry)",
   "language": "python",
   "name": "python3"
  },
  "language_info": {
   "codemirror_mode": {
    "name": "ipython",
    "version": 3
   },
   "file_extension": ".py",
   "mimetype": "text/x-python",
   "name": "python",
   "nbconvert_exporter": "python",
   "pygments_lexer": "ipython3",
   "version": "3.10.0"
  },
  "orig_nbformat": 4
 },
 "nbformat": 4,
 "nbformat_minor": 2
}
